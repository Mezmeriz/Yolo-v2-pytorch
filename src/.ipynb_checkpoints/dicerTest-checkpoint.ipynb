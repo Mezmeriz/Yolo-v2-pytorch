{
 "cells": [
  {
   "cell_type": "code",
   "execution_count": 9,
   "metadata": {},
   "outputs": [],
   "source": [
    "import numpy as np\n",
    "import open3d as o3d\n",
    "import matplotlib.pyplot as plt\n",
    "\n",
    "\n",
    "\n",
    "pcd = o3d.io.read_point_cloud('/home/sadams/sites/tetraTech/Enfield Boiler Room/chunkSmallest.pcd')\n",
    "xyz = np.asarray(pcd.points)\n"
   ]
  },
  {
   "cell_type": "code",
   "execution_count": 10,
   "metadata": {},
   "outputs": [
    {
     "name": "stdout",
     "output_type": "stream",
     "text": [
      "(9737175, 3)\n",
      "[ 8.83963013  0.47980785 -0.48088863]\n",
      "[10.85144615  4.90716791  1.25726306]\n"
     ]
    }
   ],
   "source": [
    "print(xyz.shape)\n",
    "print(np.min(xyz, axis = 0))\n",
    "print(np.max(xyz, axis = 0))\n"
   ]
  },
  {
   "cell_type": "code",
   "execution_count": 11,
   "metadata": {},
   "outputs": [],
   "source": [
    "center = [9.5, 0.5, 0.5]\n",
    "newxyz = xyz - center\n"
   ]
  },
  {
   "cell_type": "code",
   "execution_count": 20,
   "metadata": {},
   "outputs": [
    {
     "data": {
      "text/plain": [
       "(-0.7567659854888916,\n",
       " 1.4105888843536376,\n",
       " -1.0595588862895966,\n",
       " 0.8401616990566254)"
      ]
     },
     "execution_count": 20,
     "metadata": {},
     "output_type": "execute_result"
    }
   ],
   "source": [
    "plt.figure()\n",
    "II = (newxyz[:,1]> 1) & (newxyz[:,1]< 1.1)\n",
    "plt.plot(newxyz[II,0], newxyz[II,2], 'k.')\n",
    "plt.axis('equal')"
   ]
  },
  {
   "cell_type": "code",
   "execution_count": 21,
   "metadata": {},
   "outputs": [],
   "source": [
    "plt.show()"
   ]
  },
  {
   "cell_type": "code",
   "execution_count": null,
   "metadata": {},
   "outputs": [],
   "source": []
  },
  {
   "cell_type": "code",
   "execution_count": null,
   "metadata": {},
   "outputs": [],
   "source": []
  }
 ],
 "metadata": {
  "kernelspec": {
   "display_name": "Python 3",
   "language": "python",
   "name": "python3"
  },
  "language_info": {
   "codemirror_mode": {
    "name": "ipython",
    "version": 3
   },
   "file_extension": ".py",
   "mimetype": "text/x-python",
   "name": "python",
   "nbconvert_exporter": "python",
   "pygments_lexer": "ipython3",
   "version": "3.6.7"
  }
 },
 "nbformat": 4,
 "nbformat_minor": 1
}
